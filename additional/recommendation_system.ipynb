{
 "cells": [
  {
   "cell_type": "code",
   "execution_count": 1,
   "metadata": {},
   "outputs": [],
   "source": [
    "import numpy as np\n",
    "import pandas as pd\n",
    "from sklearn.tree import DecisionTreeClassifier\n",
    "from sklearn.preprocessing import LabelEncoder\n",
    "import ast"
   ]
  },
  {
   "cell_type": "code",
   "execution_count": 4,
   "metadata": {},
   "outputs": [
    {
     "name": "stdout",
     "output_type": "stream",
     "text": [
      "Predicted Skill Level: intermediate\n",
      "Predicted Probabilities: [0. 0. 1.]\n",
      "Feature Importances: [0.02045455 0.04669421 0.09090909 0.         0.02272727 0.74586777\n",
      " 0.02789256 0.02272727 0.         0.02272727]\n"
     ]
    }
   ],
   "source": [
    "# Load the dataset from the CSV file\n",
    "\n",
    "df = pd.read_csv('dataset.csv')\n",
    "# Convert string representations of lists to actual lists\n",
    "df['Answers'] = df['Answers'].apply(ast.literal_eval)\n",
    "\n",
    "# Fit the encoder on the entire set of labels\n",
    "encoder = LabelEncoder()\n",
    "encoder.fit(df['Answers'].explode())\n",
    "\n",
    "# Extract features (answers) and target variable (skill level)\n",
    "X = df['Answers'].tolist()\n",
    "y = df['Skill Level']\n",
    "\n",
    "# Label encoding for answers (transform only, no fit)\n",
    "X_encoded = np.array([encoder.transform(ans) for ans in X])\n",
    "\n",
    "# Create the Decision Tree model\n",
    "model = DecisionTreeClassifier()\n",
    "model.fit(X_encoded, y)\n",
    "\n",
    "# Sample of new input to predict\n",
    "new_answers = np.array(['b', 'b', 'b', 'a', 'b', 'b', 'b', 'b', 'b', 'b'])\n",
    "\n",
    "# Transform new answers using the updated encoder\n",
    "new_encoded_answers = np.array([encoder.transform(new_answers)])\n",
    "\n",
    "# Reshape the array to have two dimensions\n",
    "new_encoded_answers = new_encoded_answers.reshape(1, -1)\n",
    "\n",
    "# Make predictions with probabilities\n",
    "predicted_probabilities = model.predict_proba(new_encoded_answers)[0]\n",
    "\n",
    "# Find the predicted class with the highest probability\n",
    "predicted_skill_level = model.classes_[np.argmax(predicted_probabilities)]\n",
    "\n",
    "print(f\"Predicted Skill Level: {predicted_skill_level}\")\n",
    "print(f\"Predicted Probabilities: {predicted_probabilities}\")\n",
    "# Print feature importances\n",
    "print(\"Feature Importances:\", model.feature_importances_)\n"
   ]
  }
 ],
 "metadata": {
  "kernelspec": {
   "display_name": "Python 3",
   "language": "python",
   "name": "python3"
  },
  "language_info": {
   "codemirror_mode": {
    "name": "ipython",
    "version": 3
   },
   "file_extension": ".py",
   "mimetype": "text/x-python",
   "name": "python",
   "nbconvert_exporter": "python",
   "pygments_lexer": "ipython3",
   "version": "3.11.6"
  }
 },
 "nbformat": 4,
 "nbformat_minor": 2
}
